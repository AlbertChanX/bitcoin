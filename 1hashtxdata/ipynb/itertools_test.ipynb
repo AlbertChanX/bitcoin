{
 "cells": [
  {
   "cell_type": "code",
   "execution_count": 50,
   "metadata": {},
   "outputs": [
    {
     "name": "stdout",
     "output_type": "stream",
     "text": [
      "[('A', 'A'), ('A', 'B'), ('A', 'C'), ('A', 'D'), ('B', 'A'), ('B', 'B'), ('B', 'C'), ('B', 'D'), ('C', 'A'), ('C', 'B'), ('C', 'C'), ('C', 'D'), ('D', 'A'), ('D', 'B'), ('D', 'C'), ('D', 'D')]\n",
      "[('A', 'B'), ('A', 'C'), ('A', 'D'), ('B', 'A'), ('B', 'C'), ('B', 'D'), ('C', 'A'), ('C', 'B'), ('C', 'D'), ('D', 'A'), ('D', 'B'), ('D', 'C')]\n",
      "[('A', 'A'), ('A', 'B'), ('A', 'C'), ('A', 'D'), ('B', 'B'), ('B', 'C'), ('B', 'D'), ('C', 'C'), ('C', 'D'), ('D', 'D')]\n",
      "[('A', 'B'), ('A', 'C'), ('A', 'D'), ('B', 'C'), ('B', 'D'), ('C', 'D')]\n"
     ]
    },
    {
     "data": {
      "text/plain": [
       "[4, 27]"
      ]
     },
     "execution_count": 50,
     "metadata": {},
     "output_type": "execute_result"
    }
   ],
   "source": [
    "# 👬 py3\n",
    "from itertools import *\n",
    "def p(a):\n",
    "    print(a)\n",
    "    \n",
    "type(count(10))\n",
    "\n",
    "p(list(product('ABCD', repeat=2)))\n",
    "p(list(permutations('ABCD', 2)))\n",
    "p(list(combinations_with_replacement('ABCD', 2)))\n",
    "p(list(combinations('ABCD', 2)))\n",
    "list(map(pow, [2,3],[2,3]))"
   ]
  },
  {
   "cell_type": "code",
   "execution_count": 45,
   "metadata": {},
   "outputs": [
    {
     "name": "stdout",
     "output_type": "stream",
     "text": [
      "www.abc.com?id=1\n",
      "www.abc.com?id=2\n"
     ]
    }
   ],
   "source": [
    "url_tuple = list(product(['www.abc.com?id='], set(['1', '2'])))   # [urls]  [ids]\n",
    "for i in list(map(''.join, url_tuple)):\n",
    "    p(i)"
   ]
  },
  {
   "cell_type": "code",
   "execution_count": 92,
   "metadata": {},
   "outputs": [
    {
     "name": "stdout",
     "output_type": "stream",
     "text": [
      "[('A', 'x'), ('B', 'y')]\n",
      "Ax\n",
      "By\n",
      "C-\n",
      "D-\n"
     ]
    },
    {
     "data": {
      "text/plain": [
       "['Ax', 'By', 'C-', 'D-']"
      ]
     },
     "execution_count": 92,
     "metadata": {},
     "output_type": "execute_result"
    }
   ],
   "source": [
    "# zip\n",
    "from itertools import zip_longest\n",
    "p(list(zip('ABCD', 'xy')))\n",
    "\n",
    "z = list(zip_longest('ABCD', 'xy', fillvalue='-'))  # convert iter to list\n",
    "\n",
    "for i in z:\n",
    "    p(''.join(i))\n",
    "    \n",
    "[''.join(i) for i in z]\n",
    "# p(z_list)"
   ]
  },
  {
   "cell_type": "code",
   "execution_count": 94,
   "metadata": {},
   "outputs": [
    {
     "name": "stdout",
     "output_type": "stream",
     "text": [
      "A\n",
      "B\n",
      "C\n",
      "D\n",
      "E\n",
      "F\n"
     ]
    }
   ],
   "source": [
    "# \n",
    "for i in chain('ABC', 'DEF'):\n",
    "    p(i)"
   ]
  }
 ],
 "metadata": {
  "kernelspec": {
   "display_name": "Python 3",
   "language": "python",
   "name": "python3"
  },
  "language_info": {
   "codemirror_mode": {
    "name": "ipython",
    "version": 3
   },
   "file_extension": ".py",
   "mimetype": "text/x-python",
   "name": "python",
   "nbconvert_exporter": "python",
   "pygments_lexer": "ipython3",
   "version": "3.6.1"
  }
 },
 "nbformat": 4,
 "nbformat_minor": 2
}
