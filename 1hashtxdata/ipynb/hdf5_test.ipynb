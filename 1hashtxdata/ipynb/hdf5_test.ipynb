{
 "cells": [
  {
   "cell_type": "code",
   "execution_count": 45,
   "metadata": {
    "scrolled": true
   },
   "outputs": [
    {
     "name": "stdout",
     "output_type": "stream",
     "text": [
      "(100,)\n"
     ]
    }
   ],
   "source": [
    "import h5py\n",
    "# h5py.run_tests()\n",
    "\n",
    "f = h5py.File('myfile.hdf5', 'r+')\n",
    "f.clear()\n",
    "grp = f.create_group(\"bar\")\n",
    "grp.name\n",
    "\n",
    "subgrp = grp.create_group(\"baz\")\n",
    "# print subgrp.name\n",
    "\n",
    "ss = subgrp.create_group('ss')\n",
    "\n",
    "del subgrp[\"ss\"]\n",
    "# print subgrp.name\n",
    "\n",
    "dset = f.create_dataset(\"default\", (100,))\n",
    "dset = f.create_dataset(\"ints\", (100,), dtype='i8')\n",
    "print dset.shape\n",
    "f.close()\n"
   ]
  },
  {
   "cell_type": "code",
   "execution_count": 102,
   "metadata": {},
   "outputs": [
    {
     "name": "stdout",
     "output_type": "stream",
     "text": [
      "False\n",
      "False\n",
      "True\n",
      "False\n",
      "set(['neng', 'nai', 'xiong', 'tai'])\n"
     ]
    }
   ],
   "source": [
    "from pypinyin import pinyin, lazy_pinyin, TONE2\n",
    "import pypinyin\n",
    "# pinyin(u'中心')\n",
    "\n",
    "# pinyin('中心', heteronym=True)  # 启用多音字模式\n",
    "\n",
    "# pinyin('中心', style=pypinyin.FIRST_LETTER)  # 设置拼音风格\n",
    "\n",
    "# pinyin('中心', style=pypinyin.TONE2, heteronym=True)\n",
    "\n",
    "pinyin(u'乐')  # 不考虑多音字的情况\n",
    "s = set()\n",
    "for dyz in pinyin(u'能', heteronym=True, style=TONE2)[0]:\n",
    "    s.add(filter(str.isalpha, dyz.encode('utf-8')))\n",
    "s    \n",
    "# pinyin(u'乐', heteronym=True, style=TONE3)[0]\n",
    "for i in s:\n",
    "    print 'xi' in i\n",
    "print s"
   ]
  }
 ],
 "metadata": {
  "kernelspec": {
   "display_name": "Python 2",
   "language": "python",
   "name": "python2"
  },
  "language_info": {
   "codemirror_mode": {
    "name": "ipython",
    "version": 2
   },
   "file_extension": ".py",
   "mimetype": "text/x-python",
   "name": "python",
   "nbconvert_exporter": "python",
   "pygments_lexer": "ipython2",
   "version": "2.7.10"
  }
 },
 "nbformat": 4,
 "nbformat_minor": 2
}
