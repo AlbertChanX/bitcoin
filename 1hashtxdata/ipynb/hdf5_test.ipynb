{
 "cells": [
  {
   "cell_type": "code",
   "execution_count": 82,
   "metadata": {
    "scrolled": true
   },
   "outputs": [
    {
     "name": "stdout",
     "output_type": "stream",
     "text": [
      "(100,)\n"
     ]
    }
   ],
   "source": [
    "import h5py\n",
    "# h5py.run_tests()\n",
    "\n",
    "f = h5py.File('myfile.hdf5', 'r+')\n",
    "f.clear()\n",
    "grp = f.create_group(\"bar\")\n",
    "grp.name\n",
    "\n",
    "subgrp = grp.create_group(\"baz\")\n",
    "# print subgrp.name\n",
    "\n",
    "ss = subgrp.create_group('ss')\n",
    "\n",
    "del subgrp[\"ss\"]\n",
    "# print subgrp.name\n",
    "\n",
    "dset = f.create_dataset(\"default\", (100,))\n",
    "dset = f.create_dataset(\"ints\", (100,), dtype='i8')\n",
    "print dset.shape\n",
    "f.close()\n"
   ]
  },
  {
   "cell_type": "code",
   "execution_count": 102,
   "metadata": {},
   "outputs": [
    {
     "name": "stdout",
     "output_type": "stream",
     "text": [
      "False\n",
      "False\n",
      "True\n",
      "False\n",
      "set(['neng', 'nai', 'xiong', 'tai'])\n"
     ]
    }
   ],
   "source": [
    "from pypinyin import pinyin, lazy_pinyin, TONE2\n",
    "import pypinyin\n",
    "# pinyin(u'中心')\n",
    "\n",
    "# pinyin('中心', heteronym=True)  # 启用多音字模式\n",
    "\n",
    "# pinyin('中心', style=pypinyin.FIRST_LETTER)  # 设置拼音风格\n",
    "\n",
    "# pinyin('中心', style=pypinyin.TONE2, heteronym=True)\n",
    "\n",
    "pinyin(u'乐')  # 不考虑多音字的情况\n",
    "s = set()\n",
    "for dyz in pinyin(u'能', heteronym=True, style=TONE2)[0]:\n",
    "    s.add(filter(str.isalpha, dyz.encode('utf-8')))\n",
    "s    \n",
    "# pinyin(u'乐', heteronym=True, style=TONE3)[0]\n",
    "for i in s:\n",
    "    print 'xi' in i\n",
    "print s"
   ]
  },
  {
   "cell_type": "code",
   "execution_count": 60,
   "metadata": {},
   "outputs": [
    {
     "name": "stdout",
     "output_type": "stream",
     "text": [
      "{'a': 1, 'c': 3, 'b': 2}\n",
      "OrderedDict([('a', 1), ('b', 2), ('c', 3)])\n",
      "{\"a\": 1, \"b\": 2, \"c\": 3}\n",
      "<type 'dict'>\n",
      "5\n",
      "9\n",
      "12\n",
      "4\n",
      "7\n",
      "8\n",
      "{\"a\": {\"c\": [2, 1, 3, 4, 5], \"b\": [6, 7, 8, 9], \"a\": [1, 2, 3]}, \"b\": {\"b\": [6, 7, 8, 9], \"a\": [1, 2, 3], \"c\": [2]}}\n"
     ]
    },
    {
     "data": {
      "text/plain": [
       "[1, 2, ' ']"
      ]
     },
     "execution_count": 60,
     "metadata": {},
     "output_type": "execute_result"
    }
   ],
   "source": [
    "from collections import OrderedDict\n",
    "    \n",
    "import json\n",
    "\n",
    "d = dict([('a', 1), ('b', 2), ('c', 3)])\n",
    "od = OrderedDict([('a', 1), ('b', 2), ('c', 3)])\n",
    "\n",
    "print d\n",
    "print od\n",
    "print json.dumps(od)\n",
    "\n",
    "dica = {'a':[1,2,3],'b':[6,7,8,9],'c':[2,1,3,4,5]}\n",
    "dica = OrderedDict(sorted(dica.iteritems(), key=lambda x:len(x[1]), reverse=True))\n",
    "\n",
    "dicb = {'a':[1,2,3],'b':[6,7,8,9],'c':[2]}\n",
    "dicb = OrderedDict(sorted(dicb.iteritems(), key=lambda x:len(x[1]), reverse=True))\n",
    "\n",
    "\n",
    "bd = {}\n",
    "\n",
    "bd['b'] = dicb\n",
    "bd['a'] = dica\n",
    "def sum(dic):\n",
    "    s = 0\n",
    "    for k,v in dic.items():\n",
    "        s+=len(v)\n",
    "        print s\n",
    "    return s\n",
    "print(type(bd))     \n",
    "bd = sorted(bd.iteritems(), key=lambda x:sum(x[1]), reverse=True)\n",
    "print(json.dumps(OrderedDict(bd)))\n",
    "\n",
    "# li = [1,2,'','',' ']\n",
    "# new_list = [ x for x in li if x != '' ]\n"
   ]
  },
  {
   "cell_type": "code",
   "execution_count": 81,
   "metadata": {},
   "outputs": [
    {
     "name": "stdout",
     "output_type": "stream",
     "text": [
      "[5, 2, 1, 9, 6]\n",
      "['bb', 'CCC', 'ffff', 'z']\n"
     ]
    },
    {
     "data": {
      "text/plain": [
       "['b', 'abc', 'ef', 'AAz']"
      ]
     },
     "execution_count": 81,
     "metadata": {},
     "output_type": "execute_result"
    }
   ],
   "source": [
    "# list sort\n",
    "\n",
    "L = [('b',2),('a',1),('c',3),('d',4)]\n",
    "L.sort(key=lambda x:x[1], reverse=True)   # x[0]\n",
    "# print(L)\n",
    "\n",
    "# 2\n",
    "import operator\n",
    "L.sort(key=operator.itemgetter(1))\n",
    "# print(L)\n",
    "\n",
    "# 如果我们想用第二个关键字\n",
    "# 排过序后再用第一个关键字进行排序呢?\n",
    "\n",
    "L = [('d',2),('a',4),('b',3),('c',2)]\n",
    "\n",
    "L.sort(key=lambda x:(x[1],x[0]))   # tuple\n",
    "# print(L)\n",
    "\n",
    "L.sort(key=operator.itemgetter(1,0))\n",
    "\n",
    "\n",
    "L = [{\"type\": 0, \"name\": \"hhhh\", \"size\": 2}, {\"type\": 1, \"name\": \"uuuu\", \"size\": 12341234}, {\"type\": 1, \"name\": \"kkkk\", \"size\": 234}]\n",
    "L.sort(key=operator.itemgetter('type'), reverse=True)\n",
    "# print L   # change self orders\n",
    "L.sort(key=lambda x:x['type'], reverse=True)\n",
    "\n",
    "\n",
    "# return a new ordered list\n",
    "a = [5,2,1,9,6]        \n",
    " \n",
    "b = sorted(a)                  #将a从小到大排序,不影响a本身结构 \n",
    "# print a\n",
    "c =['CCC', 'bb', 'ffff', 'z']  \n",
    "sorted(c,key=len) \n",
    "\n",
    "d =['CCC', 'bb', 'ffff', 'z'] \n",
    "# print sorted(d, key=str.lower )    #将列表中的每个元素变为小写，再按每个元素中的每个字母的ascii码从小到大排序 \n",
    "\n",
    "e = ['abc','b','AAz','ef'] \n",
    "sorted(e, key=lambda x:x[-1])\n"
   ]
  }
 ],
 "metadata": {
  "kernelspec": {
   "display_name": "Python 2",
   "language": "python",
   "name": "python2"
  },
  "language_info": {
   "codemirror_mode": {
    "name": "ipython",
    "version": 2
   },
   "file_extension": ".py",
   "mimetype": "text/x-python",
   "name": "python",
   "nbconvert_exporter": "python",
   "pygments_lexer": "ipython2",
   "version": "2.7.10"
  }
 },
 "nbformat": 4,
 "nbformat_minor": 2
}
