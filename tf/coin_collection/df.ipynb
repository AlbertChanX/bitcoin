{
 "cells": [
  {
   "cell_type": "code",
   "execution_count": 59,
   "metadata": {},
   "outputs": [
    {
     "name": "stdout",
     "output_type": "stream",
     "text": [
      "[ 139.548  145.567  151.037]\n"
     ]
    },
    {
     "name": "stderr",
     "output_type": "stream",
     "text": [
      "/Users/cyc/ss/lib/python3.6/site-packages/ipykernel_launcher.py:35: FutureWarning: pd.rolling_mean is deprecated for ndarrays and will be removed in a future version\n"
     ]
    }
   ],
   "source": [
    "\n",
    "import requests\n",
    "import pandas as pd\n",
    "import json\n",
    "import numpy as np\n",
    "url = 'https://k.sosobtc.com/data/period?symbol=yunbianscny&step=86400'\n",
    "\n",
    "i_headers = {'Accept-Charset': 'GBK,UTF-8;q=0.7,*;q=0.3',   \n",
    "                 'User-Agent' :  'Mozilla/5.0 (Windows; U; Windows NT 6.1; en-US)'\n",
    "                                  'AppleWebKit/534.16 (KHTML, like Gecko)'\n",
    "                                  'Chrome/38.0.2125.111 Safari/537.36',\n",
    "                'Host':'k.sosobtc.com' }\n",
    "def getdata(url):\n",
    "    result = requests.get(url, headers=i_headers)\n",
    "    result = result.json()\n",
    "    return result\n",
    "\n",
    "tx_list = getdata(url)\n",
    "# for i,j in enumerate(tx_list):\n",
    "#      print(i, j)\n",
    "  \n",
    "df = pd.DataFrame(np.array(tx_list))\n",
    "df.columns = ['time','open','high','low','close','volumn']\n",
    "\n",
    "ts = df['time']\n",
    "df['datetime'] = pd.to_datetime(ts, unit='s').dt.strftime('%Y-%m-%d %H:%M')\n",
    "\n",
    "rise = df.close.diff()/df.close.shift(1)\n",
    "df['rise'] = rise\n",
    "pd.options.display.max_rows = 200 \n",
    "pd.set_option('display.float_format', lambda x: '%.4f' % x) \n",
    "# print(df)\n",
    "# use pd's ma calculation\n",
    "ma = 30 # month\n",
    "ma_re = pd.rolling_mean(df.close.values, ma).round(3)\n",
    "print(ma_re[-3:])\n",
    "\n"
   ]
  },
  {
   "cell_type": "code",
   "execution_count": null,
   "metadata": {
    "collapsed": true
   },
   "outputs": [],
   "source": [
    "from selenium import webdriver\n",
    "driver = webdriver.FireFox()\n",
    "url = 'https://www.sosobtc.com/currencies' \n",
    "driver.get(url)\n",
    "js = 'return window.__data;'\n",
    "coins = driver.execute_script(js)\n",
    "print(coins)\n",
    "driver.close()"
   ]
  },
  {
   "cell_type": "code",
   "execution_count": null,
   "metadata": {
    "collapsed": true
   },
   "outputs": [],
   "source": []
  }
 ],
 "metadata": {
  "kernelspec": {
   "display_name": "Python 3",
   "language": "python",
   "name": "python3"
  },
  "language_info": {
   "codemirror_mode": {
    "name": "ipython",
    "version": 3
   },
   "file_extension": ".py",
   "mimetype": "text/x-python",
   "name": "python",
   "nbconvert_exporter": "python",
   "pygments_lexer": "ipython3",
   "version": "3.6.1"
  }
 },
 "nbformat": 4,
 "nbformat_minor": 2
}
