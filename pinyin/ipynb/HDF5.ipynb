{
 "cells": [
  {
   "cell_type": "code",
   "execution_count": 63,
   "metadata": {},
   "outputs": [
    {
     "name": "stdout",
     "output_type": "stream",
     "text": [
      "   country region\n",
      "61   China   ASIA\n"
     ]
    }
   ],
   "source": [
    "import pandas as pd\n",
    "import io\n",
    "# pd.set_option('io.hdf.default_format','table')\n",
    "\n",
    "# store = pd.HDFStore('nypd_motors.h5')\n",
    "# print(store)\n",
    "# import requests\n",
    "# url=\"https://raw.githubusercontent.com/cs109/2014_data/master/countries.csv\"\n",
    "# s = requests.get(url).content\n",
    "# df = pd.read_csv(io.StringIO(s.decode('utf-8')))\n",
    "\n",
    "# df.columns = [col.lower().replace(\" \", \"_\") for col in df.columns]\n",
    "# store.append(\"nypd\", df, format='table', data_columns=True)    \n",
    "# store.put('s', s, table=False, append=False)    # store['s'] = s\n",
    "\n",
    "# store.get_storer(\"df\")\n",
    "\n",
    "# data = store.select(\"nypd\")\n",
    "\n",
    "# reg = store.select(\"nypd\", \"columns=['region']\")\n",
    "# data['count'] = 1\n",
    "\n",
    "# print(data.groupby('region').sum())\n",
    "\n",
    "# sort = store.select(\"nypd\").sort_values('region').head()\n",
    "# pd.read_json('data.json')\n",
    "\n",
    "string = 'China'\n",
    "with pd.HDFStore('nypd_motors.h5') as store:\n",
    "     print(store.select(\"nypd\", \"country==string\"))\n",
    "#      print(store.select('nypd'))"
   ]
  }
 ],
 "metadata": {
  "kernelspec": {
   "display_name": "Python 3",
   "language": "python",
   "name": "python3"
  },
  "language_info": {
   "codemirror_mode": {
    "name": "ipython",
    "version": 3
   },
   "file_extension": ".py",
   "mimetype": "text/x-python",
   "name": "python",
   "nbconvert_exporter": "python",
   "pygments_lexer": "ipython3",
   "version": "3.6.1"
  }
 },
 "nbformat": 4,
 "nbformat_minor": 2
}
